{
 "cells": [
  {
   "cell_type": "code",
   "execution_count": 1,
   "metadata": {},
   "outputs": [
    {
     "name": "stderr",
     "output_type": "stream",
     "text": [
      "<ipython-input-1-13f61ddc8d31>:28: YAMLLoadWarning: calling yaml.load() without Loader=... is deprecated, as the default Loader is unsafe. Please read https://msg.pyyaml.org/load for full details.\n",
      "  parser1 = yaml.load(f_yaml)\n"
     ]
    }
   ],
   "source": [
    "from run_utils import *\n",
    "\n",
    "class Args:\n",
    "    def __init__(self):\n",
    "        self.database_path = \"dataset/\"\n",
    "        self.protocols_path = 'dataset/'\n",
    "        self.batch_size = 32\n",
    "        self.num_epochs = 100\n",
    "        self.lr = 0.0001\n",
    "        self.weight_decay = 0.0001\n",
    "        self.loss = \"weighted_CCE\"\n",
    "        self.seed = 1234\n",
    "        self.model_path = None\n",
    "        self.comment = None\n",
    "        self.track = \"DF\"\n",
    "        self.eval_output = None\n",
    "        self.eval = False\n",
    "        self.is_eval = False\n",
    "        self.eval_part = 0\n",
    "        self.cudnn_deterministic_toggle = True\n",
    "        self.cudnn_benchmark_toggle = False\n",
    "        \n",
    "args = Args()\n",
    "\n",
    "dir_yaml = os.path.splitext('model_config_RawNet')[0] + '.yaml'\n",
    "\n",
    "with open(dir_yaml, 'r') as f_yaml:\n",
    "        parser1 = yaml.load(f_yaml)\n",
    "\n",
    "if not os.path.exists('models'):\n",
    "    os.mkdir('models')\n",
    "\n",
    "#make experiment reproducible\n",
    "set_random_seed(args.seed, args)\n",
    "\n",
    "track = args.track\n",
    "\n",
    "assert track in ['LA', 'PA','DF'], 'Invalid track given'\n",
    "\n",
    "# Database\n",
    "prefix      = 'ASVspoof_{}'.format(track)\n",
    "prefix_2019 = 'ASVspoof2019.{}'.format(track)\n",
    "prefix_2021 = 'ASVspoof2021.{}'.format(track)\n",
    "\n",
    "#define model saving path\n",
    "model_tag = 'model_{}_{}_{}_{}_{}'.format(\n",
    "    track, args.loss, args.num_epochs, args.batch_size, args.lr)\n",
    "if args.comment:\n",
    "    model_tag = model_tag + '_{}'.format(args.comment)\n",
    "model_save_path = os.path.join('models', model_tag)\n",
    "\n",
    "#set model save directory\n",
    "if not os.path.exists(model_save_path):\n",
    "    os.mkdir(model_save_path)\n",
    "\n",
    "if args.model_path:\n",
    "    model.load_state_dict(torch.load(args.model_path,map_location=device))\n",
    "    print('Model loaded : {}'.format(args.model_path))\n",
    "\n",
    "# evaluation \n",
    "if args.eval:\n",
    "    file_eval = genSpoof_list( dir_meta =  os.path.join(args.protocols_path+'{}_cm_protocols/{}.cm.eval.trl.txt'.format(prefix,prefix_2021)),is_train=False,is_eval=True)\n",
    "    print('no. of eval trials',len(file_eval))\n",
    "    eval_set=Dataset_ASVspoof2021_eval(list_IDs = file_eval,base_dir = os.path.join(args.database_path+'ASVspoof2021_{}_eval/'.format(args.track)))\n",
    "    produce_evaluation_file(eval_set, model, device, args.eval_output)\n",
    "    sys.exit(0)"
   ]
  },
  {
   "cell_type": "code",
   "execution_count": 41,
   "metadata": {},
   "outputs": [],
   "source": [
    "from my_model import ASVspoof2019TrillDataModule, MyModel\n",
    "from tensorneko import Trainer\n",
    "from torch.utils.data import DataLoader\n",
    "from main import *"
   ]
  },
  {
   "cell_type": "code",
   "execution_count": 2,
   "metadata": {},
   "outputs": [],
   "source": [
    "model = MyModel.load_from_checkpoint(\"ckpt/trill_mean_mlp_1624694162.ckpt\").cuda()"
   ]
  },
  {
   "cell_type": "code",
   "execution_count": 3,
   "metadata": {},
   "outputs": [
    {
     "name": "stdout",
     "output_type": "stream",
     "text": [
      "no. of training trials 25380\n",
      "no. of validation trials 24844\n",
      "no. of eval trials 611829\n"
     ]
    }
   ],
   "source": [
    "dm = ASVspoof2019TrillDataModule(batch_size=256, num_workers=10)\n",
    "dm.setup()"
   ]
  },
  {
   "cell_type": "code",
   "execution_count": 8,
   "metadata": {},
   "outputs": [
    {
     "name": "stderr",
     "output_type": "stream",
     "text": [
      "100%|██████████| 4780/4780 [47:18<00:00,  1.68it/s]"
     ]
    },
    {
     "name": "stdout",
     "output_type": "stream",
     "text": [
      "Scores saved to out\n"
     ]
    },
    {
     "name": "stderr",
     "output_type": "stream",
     "text": [
      "\n"
     ]
    }
   ],
   "source": [
    "# produce_evaluation_file(dm.test_dataset, model, \"cuda\", \"out.txt\")"
   ]
  },
  {
   "cell_type": "code",
   "execution_count": 4,
   "metadata": {},
   "outputs": [],
   "source": [
    "from metrics.eval_metrics import * "
   ]
  },
  {
   "cell_type": "code",
   "execution_count": 6,
   "metadata": {},
   "outputs": [
    {
     "name": "stderr",
     "output_type": "stream",
     "text": [
      "GPU available: True, used: True\n",
      "TPU available: False, using: 0 TPU cores\n"
     ]
    }
   ],
   "source": [
    "trainer = Trainer.build(gpus=1, log_every_n_steps=100, checkpoint_callback=False,\n",
    "                        logger=model.name)"
   ]
  },
  {
   "cell_type": "code",
   "execution_count": 43,
   "metadata": {},
   "outputs": [
    {
     "name": "stderr",
     "output_type": "stream",
     "text": [
      "LOCAL_RANK: 0 - CUDA_VISIBLE_DEVICES: [0]\n"
     ]
    },
    {
     "data": {
      "application/vnd.jupyter.widget-view+json": {
       "model_id": "5a2692243d4f4e3780f17ad7d4cc58ca",
       "version_major": 2,
       "version_minor": 0
      },
      "text/plain": [
       "Predicting: 0it [00:00, ?it/s]"
      ]
     },
     "metadata": {},
     "output_type": "display_data"
    }
   ],
   "source": [
    "out = trainer.predict(model, dataloaders=DataLoader(dm.train_dataset, batch_size=dm.batch_size, shuffle=False))"
   ]
  },
  {
   "cell_type": "code",
   "execution_count": 60,
   "metadata": {},
   "outputs": [
    {
     "data": {
      "text/plain": [
       "tensor([-2.4562e-21])"
      ]
     },
     "execution_count": 60,
     "metadata": {},
     "output_type": "execute_result"
    }
   ],
   "source": [
    "torch.Tensor(1).detach()"
   ]
  },
  {
   "cell_type": "code",
   "execution_count": 45,
   "metadata": {},
   "outputs": [],
   "source": [
    "out = torch.vstack(out)"
   ]
  },
  {
   "cell_type": "code",
   "execution_count": 47,
   "metadata": {},
   "outputs": [],
   "source": [
    "pred = out.max(dim=1)[1]"
   ]
  },
  {
   "cell_type": "code",
   "execution_count": 48,
   "metadata": {},
   "outputs": [
    {
     "data": {
      "text/plain": [
       "tensor([1, 1, 1,  ..., 0, 0, 0], device='cuda:0')"
      ]
     },
     "execution_count": 48,
     "metadata": {},
     "output_type": "execute_result"
    }
   ],
   "source": [
    "pred"
   ]
  },
  {
   "cell_type": "code",
   "execution_count": 49,
   "metadata": {},
   "outputs": [],
   "source": [
    "true = torch.Tensor(list(map(lambda x: x[1], dm.train_dataset))).int().cuda()"
   ]
  },
  {
   "cell_type": "code",
   "execution_count": 45,
   "metadata": {},
   "outputs": [
    {
     "name": "stderr",
     "output_type": "stream",
     "text": [
      "100%|██████████| 24844/24844 [02:58<00:00, 139.11it/s]\n"
     ]
    }
   ],
   "source": [
    "val_true = []\n",
    "for x,y in tqdm(dm.val_dataset):\n",
    "    val_true.append(y)\n",
    "val_true = torch.Tensor(val_true).int().cuda()\n"
   ]
  },
  {
   "cell_type": "code",
   "execution_count": 50,
   "metadata": {},
   "outputs": [
    {
     "name": "stderr",
     "output_type": "stream",
     "text": [
      "\n",
      "  0%|          | 0/25380 [00:00<?, ?it/s]\u001B[A\n",
      " 28%|██▊       | 7065/25380 [00:00<00:00, 70637.27it/s]\u001B[A\n",
      " 56%|█████▌    | 14129/25380 [00:00<00:00, 70335.90it/s]\u001B[A\n",
      "100%|██████████| 25380/25380 [00:00<00:00, 70278.66it/s]\u001B[A\n"
     ]
    },
    {
     "data": {
      "text/plain": [
       "(0.8962460066073117, -2.320418119430542)"
      ]
     },
     "execution_count": 50,
     "metadata": {},
     "output_type": "execute_result"
    }
   ],
   "source": [
    "corr = true.cuda() == pred.cuda()\n",
    "\n",
    "target_scores = []\n",
    "nontarget_scores = []\n",
    "\n",
    "for i in tqdm(range(len(true))):\n",
    "    if corr[i]:\n",
    "        target_scores.append(out[i, 1])\n",
    "    else:\n",
    "        nontarget_scores.append(out[i, 1])\n",
    "\n",
    "target_scores = torch.Tensor(target_scores).numpy()\n",
    "nontarget_scores = torch.Tensor(nontarget_scores).numpy()\n",
    "\n",
    "compute_eer(target_scores, nontarget_scores)"
   ]
  },
  {
   "cell_type": "code",
   "execution_count": 10,
   "metadata": {},
   "outputs": [
    {
     "name": "stdout",
     "output_type": "stream",
     "text": [
      "no. of eval trials 611829\n"
     ]
    }
   ],
   "source": [
    "file_eval = genSpoof_list(dir_meta='dataset/ASVspoof_DF_cm_protocols/ASVspoof2021.DF.cm.eval.trl.txt',is_train=False,is_eval=True)\n",
    "print('no. of eval trials',len(file_eval))"
   ]
  },
  {
   "cell_type": "code",
   "execution_count": 17,
   "metadata": {},
   "outputs": [],
   "source": [
    "eval_set = ASVspoof2019Trill(list_IDs = file_eval, labels=None, base_dir='dataset/ASVspoof2021_DF_eval/')"
   ]
  },
  {
   "cell_type": "code",
   "execution_count": null,
   "metadata": {},
   "outputs": [],
   "source": [
    "produce_evaluation_file(eval_set, model, device, args.eval_output)"
   ]
  }
 ],
 "metadata": {
  "kernelspec": {
   "display_name": "re1",
   "language": "python",
   "name": "re1"
  },
  "language_info": {
   "codemirror_mode": {
    "name": "ipython",
    "version": 3
   },
   "file_extension": ".py",
   "mimetype": "text/x-python",
   "name": "python",
   "nbconvert_exporter": "python",
   "pygments_lexer": "ipython3",
   "version": "3.8.10"
  }
 },
 "nbformat": 4,
 "nbformat_minor": 4
}